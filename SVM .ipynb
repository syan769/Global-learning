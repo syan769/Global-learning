{
 "cells": [
  {
   "cell_type": "code",
   "execution_count": 1,
   "id": "a73678b3",
   "metadata": {},
   "outputs": [
    {
     "ename": "ModuleNotFoundError",
     "evalue": "No module named 'pandas'",
     "output_type": "error",
     "traceback": [
      "\u001b[0;31m---------------------------------------------------------------------------\u001b[0m",
      "\u001b[0;31mModuleNotFoundError\u001b[0m                       Traceback (most recent call last)",
      "\u001b[1;32m/Users/stevenyan/Desktop/DS project/SVM primary vison.ipynb 单元格 1\u001b[0m line \u001b[0;36m1\n\u001b[0;32m----> <a href='vscode-notebook-cell:/Users/stevenyan/Desktop/DS%20project/SVM%20primary%20vison.ipynb#W0sZmlsZQ%3D%3D?line=0'>1</a>\u001b[0m \u001b[39mimport\u001b[39;00m \u001b[39mpandas\u001b[39;00m \u001b[39mas\u001b[39;00m \u001b[39mpd\u001b[39;00m\n\u001b[1;32m      <a href='vscode-notebook-cell:/Users/stevenyan/Desktop/DS%20project/SVM%20primary%20vison.ipynb#W0sZmlsZQ%3D%3D?line=1'>2</a>\u001b[0m \u001b[39mfrom\u001b[39;00m \u001b[39msklearn\u001b[39;00m\u001b[39m.\u001b[39;00m\u001b[39mmodel_selection\u001b[39;00m \u001b[39mimport\u001b[39;00m train_test_split\n\u001b[1;32m      <a href='vscode-notebook-cell:/Users/stevenyan/Desktop/DS%20project/SVM%20primary%20vison.ipynb#W0sZmlsZQ%3D%3D?line=2'>3</a>\u001b[0m \u001b[39mfrom\u001b[39;00m \u001b[39msklearn\u001b[39;00m\u001b[39m.\u001b[39;00m\u001b[39msvm\u001b[39;00m \u001b[39mimport\u001b[39;00m SVC\n",
      "\u001b[0;31mModuleNotFoundError\u001b[0m: No module named 'pandas'"
     ]
    }
   ],
   "source": [
    "import pandas as pd\n",
    "from sklearn.model_selection import train_test_split\n",
    "from sklearn.svm import SVC\n",
    "from sklearn.metrics import accuracy_score\n",
    "import numpy as np\n",
    "\n"
   ]
  },
  {
   "cell_type": "code",
   "execution_count": 16,
   "id": "92b48959",
   "metadata": {},
   "outputs": [
    {
     "name": "stdout",
     "output_type": "stream",
     "text": [
      "Number of rows: 40085\n"
     ]
    }
   ],
   "source": [
    "\n",
    "data = pd.read_csv('afterprocess.csv')\n",
    "num_rows = data.shape[0]\n",
    "print(\"Number of rows:\", num_rows)\n"
   ]
  },
  {
   "cell_type": "code",
   "execution_count": 17,
   "id": "79fc8689",
   "metadata": {},
   "outputs": [
    {
     "name": "stdout",
     "output_type": "stream",
     "text": [
      "Number of rows: 40085\n"
     ]
    }
   ],
   "source": [
    "\n",
    "# 选择特征和清除NA\n",
    "#data = data.dropna(subset=['Country of Citizenship', 'Weighted Average', 'Postgraduate flag',\"Status\",'Points Completed - Total'])\n",
    "features = data[['Country of Citizenship', 'Weighted Average',\"Term\" ,'Points Completed - Total','Days','Degree Program 1','Program Currently Assigned City']]\n",
    "target = data['Status']\n",
    "num_rows = data.shape[0]\n",
    "print(\"Number of rows:\", num_rows)"
   ]
  },
  {
   "cell_type": "code",
   "execution_count": 19,
   "id": "3c128cdc",
   "metadata": {},
   "outputs": [],
   "source": [
    "\n",
    "features_encoded = pd.get_dummies(features, columns=['Country of Citizenship', 'Term','Points Completed - Total','Days','Degree Program 1',\"Program Currently Assigned City\"])\n",
    "\n",
    "# test&train\n",
    "X_train, X_test, y_train, y_test = train_test_split(features_encoded, target, test_size=0.3, random_state=42)"
   ]
  },
  {
   "cell_type": "code",
   "execution_count": null,
   "id": "7487b436",
   "metadata": {},
   "outputs": [],
   "source": [
    "# SVM model\n",
    "svm_model = SVC(probability=True)\n",
    "\n",
    "# Trainning\n",
    "svm_model.fit(X_train, y_train)\n",
    "\n",
    "\n",
    "\n"
   ]
  },
  {
   "cell_type": "code",
   "execution_count": 107,
   "id": "340ca109",
   "metadata": {},
   "outputs": [
    {
     "name": "stdout",
     "output_type": "stream",
     "text": [
      "Accuracy: 0.7070279424216765\n",
      "Predicted Probabilities:\n",
      "0.5076871610904964\n"
     ]
    }
   ],
   "source": [
    "predictions = svm_model.predict(X_test)\n",
    "probabilities = svm_model.predict_proba(X_test)[:, 1]\n",
    "accuracy = accuracy_score(y_test, predictions)\n",
    "print(f\"Accuracy: {accuracy}\")\n",
    "\n",
    "\n",
    "print(\"Predicted Probabilities:\")\n",
    "print(np.mean(probabilities))"
   ]
  },
  {
   "cell_type": "code",
   "execution_count": 7,
   "id": "a7c6b1b4",
   "metadata": {},
   "outputs": [
    {
     "ename": "NameError",
     "evalue": "name 'svm_model' is not defined",
     "output_type": "error",
     "traceback": [
      "\u001b[0;31m---------------------------------------------------------------------------\u001b[0m",
      "\u001b[0;31mNameError\u001b[0m                                 Traceback (most recent call last)",
      "\u001b[0;32m/var/folders/_d/fh70syld2d917rzkkr3k1w8h0000gn/T/ipykernel_90227/3975872621.py\u001b[0m in \u001b[0;36m<module>\u001b[0;34m\u001b[0m\n\u001b[1;32m      2\u001b[0m \u001b[0;34m\u001b[0m\u001b[0m\n\u001b[1;32m      3\u001b[0m \u001b[0;31m# Assuming you have already trained and predicted with your SVM model\u001b[0m\u001b[0;34m\u001b[0m\u001b[0;34m\u001b[0m\u001b[0m\n\u001b[0;32m----> 4\u001b[0;31m \u001b[0my_pred\u001b[0m \u001b[0;34m=\u001b[0m \u001b[0msvm_model\u001b[0m\u001b[0;34m.\u001b[0m\u001b[0mpredict\u001b[0m\u001b[0;34m(\u001b[0m\u001b[0mX_test\u001b[0m\u001b[0;34m)\u001b[0m\u001b[0;34m\u001b[0m\u001b[0;34m\u001b[0m\u001b[0m\n\u001b[0m\u001b[1;32m      5\u001b[0m \u001b[0;34m\u001b[0m\u001b[0m\n\u001b[1;32m      6\u001b[0m \u001b[0;31m# Print the classification report\u001b[0m\u001b[0;34m\u001b[0m\u001b[0;34m\u001b[0m\u001b[0m\n",
      "\u001b[0;31mNameError\u001b[0m: name 'svm_model' is not defined"
     ]
    }
   ],
   "source": [
    "from sklearn.metrics import classification_report\n",
    "\n",
    "# Assuming you have already trained and predicted with your SVM model\n",
    "y_pred = svm_model.predict(X_test)\n",
    "\n",
    "# Print the classification report\n",
    "target_names = ['Unsuccessful', 'Successful','Pending']\n",
    "print(classification_report(y_test, y_pred, target_names=target_names))\n"
   ]
  },
  {
   "cell_type": "code",
   "execution_count": null,
   "id": "3b3cc4b8",
   "metadata": {},
   "outputs": [],
   "source": []
  }
 ],
 "metadata": {
  "kernelspec": {
   "display_name": "Python 3 (ipykernel)",
   "language": "python",
   "name": "python3"
  },
  "language_info": {
   "codemirror_mode": {
    "name": "ipython",
    "version": 3
   },
   "file_extension": ".py",
   "mimetype": "text/x-python",
   "name": "python",
   "nbconvert_exporter": "python",
   "pygments_lexer": "ipython3",
   "version": "3.9.0"
  }
 },
 "nbformat": 4,
 "nbformat_minor": 5
}
