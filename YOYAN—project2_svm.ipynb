{
 "cells": [
  {
   "cell_type": "markdown",
   "metadata": {
    "id": "5zFoS3xPTQzl"
   },
   "source": [
    "# COMP90051 Project 2\n",
    "\n",
    "**Copyright statement:** This notebook is copyright University of Melbourne. \n",
    "It is licensed for the sole purpose of your assessment in COMP90051. \n",
    "You are not permitted to share or publish derived versions of this notebook, other than with COMP90051 staff for assessment.\n",
    "\n",
    "***\n",
    "\n",
    "The code block below imports the namespaces/functions/classes you may use in the project. \n",
    "Additional imports are not permitted."
   ]
  },
  {
   "cell_type": "code",
   "execution_count": 1,
   "metadata": {
    "id": "DWLjrI_bTQzp"
   },
   "outputs": [],
   "source": [
    "# Do not edit. These are the only imports permitted.\n",
    "import numpy as np\n",
    "import matplotlib.pyplot as plt\n",
    "import seaborn as sns\n",
    "from numpy import ndarray\n",
    "from typing import List, Optional, Tuple, Callable\n",
    "import random\n",
    "import copy\n",
    "import tqdm\n",
    "from abc import ABC, abstractmethod\n",
    "sns.set_style('darkgrid')\n",
    "plt.rcParams['figure.dpi'] = 108\n",
    "RND_SEED = 90"
   ]
  },
  {
   "cell_type": "markdown",
   "metadata": {
    "id": "KtK9nsSWTQzq"
   },
   "source": [
    "The base `SVM` class below defines a common interface for a support vector machine. \n",
    "Your implementations below for each task of the project should inherit from this class. Feel free to add to this class if you need."
   ]
  },
  {
   "cell_type": "code",
   "execution_count": 4,
   "metadata": {
    "id": "a2AGnQc4TQzr"
   },
   "outputs": [],
   "source": [
    "class SVM(ABC):\n",
    "    \"\"\"Base class for a support vector machine (SVM)\"\"\"\n",
    "    \n",
    "    def __init__(self) -> None:\n",
    "        pass\n",
    "        \n",
    "    @abstractmethod\n",
    "    def fit(self, X, y) -> None:        \n",
    "        \"\"\"Fit the model with the given training data.\n",
    "        \n",
    "        Parameters\n",
    "        ----------        \n",
    "        X : float numpy.ndarray, shape (n_samples, n_features)\n",
    "            An array of training instances. \n",
    "        y : int {-1,1} numpy.ndarray, shape (n_samples,)\n",
    "            Labels array relative to training instances.\n",
    "        -------\n",
    "        \"\"\"\n",
    "    \n",
    "    @abstractmethod\n",
    "    def predict(self, test_X) -> int:\n",
    "        \"\"\"Predict label for given test samples\n",
    "\n",
    "        Parameters\n",
    "        ----------        \n",
    "        test_X : float numpy.ndarray, shape (n_samples, n_features)\n",
    "            An array of test instances. \n",
    "\n",
    "        -------\n",
    "        Return \n",
    "        y : int {-1,1} numpy.ndarray, shape (n_samples,)\n",
    "            Predict labels array for test samples.\n",
    "        \"\"\"\n",
    "        \n",
    "    def evaluate(self, test_X, test_y) -> int:\n",
    "        \"\"\"Return the mean accuracy on the given test samples and labels.\n",
    "\n",
    "        Parameters\n",
    "        ----------        \n",
    "        test_X : float numpy.ndarray, shape (n_samples, n_features)\n",
    "            An array of test instances. \n",
    "        test_y : int {-1,1} numpy.ndarray, shape (n_samples,)\n",
    "            Labels array relative to training instances.\n",
    "        -------\n",
    "        Return : float, mean accuracy\n",
    "\n",
    "        \"\"\"\n",
    "            \n",
    "        pred_y = self.predict(test_X)\n",
    "        acc = (pred_y == test_y).sum() / len(test_y)\n",
    "        return acc\n",
    "    \n",
    "    def visualize(self, X, y) -> None:\n",
    "        \"\"\"Plot data and decision surface of fitted model. \n",
    "        This function is adapted from \n",
    "        https://stackoverflow.com/questions/51297423/plot-scikit-learn-sklearn-svm-decision-boundary-surface\n",
    "\n",
    "        Parameters\n",
    "        ----------        \n",
    "        X : float numpy.ndarray, shape (n_samples, n_features)\n",
    "            An array of instances. \n",
    "        y : int {-1,1} numpy.ndarray, shape (n_samples,)\n",
    "            Labels array relative to X.\n",
    "        -------\n",
    "        \"\"\"\n",
    "        y = np.array(y).squeeze()\n",
    "        X = np.array(X)\n",
    "        \n",
    "        assert X.ndim == 2, \"The shape of X must be (n_samples, n_features)\"\n",
    "        assert X.shape[0] == y.shape[0], \"Inconsistent number of instances and labels\"\n",
    "        assert set(y) == set([1,-1]), \"Labels must be 1 or -1\"\n",
    "        \n",
    "        def make_meshgrid(x, y, h=.02):\n",
    "            x_min, x_max = x.min() - 1, x.max() + 1\n",
    "            y_min, y_max = y.min() - 1, y.max() + 1\n",
    "            xx, yy = np.meshgrid(np.arange(x_min, x_max, h), np.arange(y_min, y_max, h))\n",
    "            return xx, yy\n",
    "\n",
    "        def plot_contours(ax, clf, xx, yy, **params):\n",
    "            Z = clf.predict(np.c_[xx.ravel(), yy.ravel()])\n",
    "            Z = Z.reshape(xx.shape)\n",
    "            out = ax.contourf(xx, yy, Z, **params)\n",
    "            return out\n",
    "        \n",
    "        fig, ax = plt.subplots()\n",
    "        title = ('Decision surface of SVM')\n",
    "        # Set-up grid for plotting.\n",
    "        X0, X1 = X[:, 0], X[:, 1]\n",
    "        xx, yy = make_meshgrid(X0, X1)\n",
    "\n",
    "        plot_contours(ax, self, xx, yy, cmap=plt.cm.Pastel1)\n",
    "        ax.scatter(X[y==-1,0], X[y==-1,1], color='b', label=\"$y = -1$\")\n",
    "        ax.scatter(X[y==1,0], X[y==1,1], color='r', label=\"$y = 1$\")\n",
    "\n",
    "        ax.set_ylabel('$x_1$')\n",
    "        ax.set_xlabel('$x_2$')\n",
    "        ax.set_xticks(())\n",
    "        ax.set_yticks(())\n",
    "        ax.set_title(title)\n",
    "        ax.legend()\n",
    "        plt.show()"
   ]
  },
  {
   "cell_type": "markdown",
   "metadata": {
    "id": "zrrak7iQTQzs"
   },
   "source": [
    "### Binary classification data\n",
    "We will generate some toy binary classification data, re-using the code from workshop 4. This will be used for tasks 1-3."
   ]
  },
  {
   "cell_type": "code",
   "execution_count": 2,
   "metadata": {
    "id": "gTxReDklTQzt"
   },
   "outputs": [
    {
     "data": {
      "image/png": "[encoded data removed]",
      "text/plain": [
       "<Figure size 648x432 with 1 Axes>"
      ]
     },
     "metadata": {},
     "output_type": "display_data"
    }
   ],
   "source": [
    "from sklearn.datasets import make_classification\n",
    "\n",
    "X, y = make_classification(n_samples = 30, n_features = 2, n_informative=2, n_redundant=0, random_state=RND_SEED)\n",
    "y = np.where(y <=0, -1, 1)\n",
    "X_b = np.column_stack((np.ones_like(y), X))\n",
    "\n",
    "plt.scatter(X[y==-1,0], X[y==-1,1], color='b', label=\"$y = -1$\")\n",
    "plt.scatter(X[y==1,0], X[y==1,1], color='r', label=\"$y = 1$\")\n",
    "plt.xlabel('$x_1$')\n",
    "plt.ylabel('$x_2$')\n",
    "plt.legend()\n",
    "plt.show()"
   ]
  },
  {
   "cell_type": "markdown",
   "metadata": {
    "id": "qSBvj08vTQzu"
   },
   "source": [
    "## Task 1: Primal soft-margin SVM"
   ]
  },
  {
   "cell_type": "code",
   "execution_count": 44,
   "metadata": {
    "id": "LhmCIFtNTQzv",
    "outputId": "613ca0a6-04bf-4c7a-e9ae-e87e8632e761"
   },
   "outputs": [],
   "source": [
    "class PrimalSVM(SVM):\n",
    "    \"\"\"Soft-margin SVM fit using primal objective, training \n",
    "    with stochastic gradient ascent.\n",
    "\n",
    "    Parameters\n",
    "    ----------\n",
    "    eta : float\n",
    "        Learning rate.\n",
    "    lambda0: float\n",
    "        Regularisation term, must be strictly positive\n",
    "    \"\"\"\n",
    "    \n",
    "    def __init__(self, eta, lambda0) -> None:\n",
    "        self.eta = eta\n",
    "        super().__init__()\n",
    "        self.lambda0 = lambda0  \n",
    "        self.weights = None \n",
    "        self.bias = None\n",
    "        ### end of your code ###\n",
    "        \n",
    "    def fit(self, X, y, iterations = 100) -> None:\n",
    "    \n",
    "        super().fit(X=X,y=y)\n",
    "        n_samples, n_features = X.shape\n",
    "        self.weights = np.zeros(n_features)\n",
    "        self.bias = 0 \n",
    "        for i in range(iterations): # for two options\n",
    "            for j in range(n_samples):\n",
    "                if (y[j] * (np.dot(X[j], self.weights) + self.bias)) < 1:\n",
    "                    # when loss fuction is eat*-yj *xj + lambda * weights and bias is eat *yj\n",
    "                    self.weights -= self.eta * (-y[j] * X[j] + self.lambda0 * self.weights)\n",
    "                    self.bias += self.eta * y[j]\n",
    "                else:\n",
    "                    #when loss fucntion is lambda*weight, and bias = 0 \n",
    "                    self.weights -= self.eta * self.lambda0 * self.weights\n",
    "        ### end of your code ###\n",
    "        \n",
    "            \n",
    "    def predict(self, test_X) -> int: \n",
    "        super().predict(test_X = test_X)\n",
    "        ## your code here ###\n",
    "        return np.sign(np.dot(test_X, self.weights) + self.bias)\n",
    "        ### end of your code ###"
   ]
  },
  {
   "cell_type": "code",
   "execution_count": 45,
   "metadata": {
    "id": "kUOyat7BTQzw"
   },
   "outputs": [
    {
     "name": "stdout",
     "output_type": "stream",
     "text": [
      "Accuracy is 0.9\n"
     ]
    },
    {
     "data": {
      "image/png": "[encoded data removed]",
      "text/plain": [
       "<Figure size 648x432 with 1 Axes>"
      ]
     },
     "metadata": {},
     "output_type": "display_data"
    }
   ],
   "source": [
    "psvm = PrimalSVM(eta = 0.1, lambda0=0.1)\n",
    "psvm.fit(X,y, iterations = 100)\n",
    "print(f\"Accuracy is {round(psvm.evaluate(X,y),4)}\")\n",
    "psvm.visualize(X,y)"
   ]
  },
  {
   "cell_type": "markdown",
   "metadata": {
    "id": "Ifa1T-Q4TQzx"
   },
   "source": [
    "### Tuning lambda value"
   ]
  },
  {
   "cell_type": "code",
   "execution_count": 171,
   "metadata": {
    "id": "6c2O01kgTQzx"
   },
   "outputs": [
    {
     "name": "stdout",
     "output_type": "stream",
     "text": [
      "Accuracy is 0.9667\n",
      "Accuracy is 0.9667\n",
      "Accuracy is 0.9667\n",
      "Accuracy is 0.9667\n",
      "Accuracy is 0.9667\n",
      "Accuracy is 0.9\n",
      "Accuracy is 0.9\n",
      "Accuracy is 0.7667\n",
      "Accuracy is 0.4333\n",
      "Accuracy is 0.0\n",
      "Best lambda: 1e-05\n",
      "Best accuracy on validation set: 0.9667\n"
     ]
    },
    {
     "name": "stderr",
     "output_type": "stream",
     "text": [
      "/var/folders/_d/fh70syld2d917rzkkr3k1w8h0000gn/T/ipykernel_54774/2215263156.py:31: RuntimeWarning: overflow encountered in multiply\n",
      "  self.weights -= self.eta * (-y[j] * X[j] + self.lambda0 * self.weights)\n",
      "/var/folders/_d/fh70syld2d917rzkkr3k1w8h0000gn/T/ipykernel_54774/2215263156.py:35: RuntimeWarning: invalid value encountered in subtract\n",
      "  self.weights -= self.eta * self.lambda0 * self.weights\n"
     ]
    }
   ],
   "source": [
    "# Use this cell for experimentation 1.b\n",
    "lambdas = np.logspace(-5, 2, 10)  \n",
    "\n",
    "best_lambda = None\n",
    "best_accuracy = 0\n",
    "\n",
    "for lambda0 in lambdas:\n",
    "    psvm = PrimalSVM(eta=0.1, lambda0=lambda0)\n",
    "    psvm.fit(X,y, iterations = 100)\n",
    "    \n",
    "    \n",
    "    print(f\"Accuracy is {round(psvm.evaluate(X,y),4)}\")\n",
    "    accuracy = round(psvm.evaluate(X,y),4)\n",
    "    if accuracy > best_accuracy:\n",
    "        best_accuracy = accuracy\n",
    "        best_lambda = lambda0\n",
    "\n",
    "print(f\"Best lambda: {best_lambda}\")\n",
    "print(f\"Best accuracy on validation set: {best_accuracy}\")"
   ]
  },
  {
   "cell_type": "markdown",
   "metadata": {
    "id": "vECMC_JLTQzy"
   },
   "source": [
    "## Task 2: Dual soft-margin SVM"
   ]
  },
  {
   "cell_type": "code",
   "execution_count": 74,
   "metadata": {
    "id": "VNLjRbT4TQzy"
   },
   "outputs": [],
   "source": [
    "class DualSVM(SVM):\n",
    "    \"\"\"Soft-margin SVM using dual formulation, training \n",
    "    with stochastic gradient ascent\n",
    "\n",
    "    Parameters\n",
    "    ----------\n",
    "    eta : float\n",
    "        Learning rate.\n",
    "    C: float\n",
    "        Regularization parameter.\n",
    "    kernel: Kernel\n",
    "        Kernel function\n",
    "    \"\"\"\n",
    "    \n",
    "    def __init__(self, eta, C, kernel = None):\n",
    "        super().__init__()\n",
    "        if kernel is None:\n",
    "            def dot_product(u,v):\n",
    "                return np.dot(u, v.T)\n",
    "            self.kernel = dot_product\n",
    "        else:\n",
    "            self.kernel = kernel\n",
    "            \n",
    "        ## your code here ###\n",
    "        self.eta = eta \n",
    "        self.C = C\n",
    "        ### end of your code ###\n",
    "    \n",
    "    def fit(self, X, y, iterations = 100):\n",
    "        \n",
    "        super().fit(X=X,y=y)\n",
    "        self.X = X\n",
    "        self.y = y\n",
    "        \n",
    "        ### your code here ###\n",
    "        n_samples, n_features = X.shape\n",
    "        self.alpha = np.zeros(n_samples)# lagrange multipliers (sometimes denoted lambda), you should initialize with 0s\n",
    "\n",
    "        \n",
    "        for j in range(iterations):\n",
    "            for i in range(n_samples):\n",
    "                gradient = 1 - y[i] * np.sum(self.alpha * y * self.kernel(X, X[i]))\n",
    "                self.alpha[i] += self.eta * gradient\n",
    "\n",
    "             # two outcome, <0 or > C\n",
    "                for n in range(len(self.alpha)):\n",
    "                    if self.alpha[n]<0:\n",
    "                        self.alpha[n] = 0\n",
    "                    elif self.alpha[n]> self.C:\n",
    "                        self.alpha[n] =self.C\n",
    "        ### end of your code ###\n",
    "        self.bias = self.get_bias()\n",
    "            \n",
    "        return \n",
    "     \n",
    "    def predict(self, test_X):\n",
    "        super().predict(test_X =test_X)\n",
    "        ### your code here ###\n",
    "        predictions = []\n",
    "        for x in test_X:\n",
    "            result = self.bias + np.sum(self.alpha * self.y * self.kernel(x, self.X))\n",
    "            predictions.append(np.sign(result))\n",
    "        return np.array(predictions)\n",
    "\n",
    "        ### end of your code ###\n",
    "    \n",
    "    def primal_weights(self):\n",
    "        \"\"\"Compute weights based on alphas, assuming linear kernel\n",
    "        \"\"\"\n",
    "        ### your code here ###\n",
    "        return np.dot(self.alpha * self.y, self.X)\n",
    "        ### end of your code ###\n",
    "        \n",
    "    def get_bias(self):\n",
    "        \"\"\"Compute bias based on learned alphas and training data set\n",
    "        \"\"\"\n",
    "        ### your code here ###\n",
    "        return np.mean(self.y - np.sum(self.alpha * self.y * self.kernel(self.X, self.X), axis=1))\n",
    "        ### end of your code ###"
   ]
  },
  {
   "cell_type": "code",
   "execution_count": 146,
   "metadata": {
    "id": "3BzkZq-pTQzz"
   },
   "outputs": [
    {
     "name": "stdout",
     "output_type": "stream",
     "text": [
      "Accuracy is 0.9667\n"
     ]
    },
    {
     "data": {
      "image/png": "[encoded data removed]",
      "text/plain": [
       "<Figure size 648x432 with 1 Axes>"
      ]
     },
     "metadata": {},
     "output_type": "display_data"
    }
   ],
   "source": [
    "dsvm = DualSVM(eta = 0.1, C = 100)\n",
    "dsvm.fit(X,y, iterations = 100)\n",
    "print(f\"Accuracy is {round(dsvm.evaluate(X,y),4)}\")\n",
    "dsvm.visualize(X,y)"
   ]
  },
  {
   "cell_type": "markdown",
   "metadata": {
    "id": "7k0BwigQTQz0"
   },
   "source": [
    "### Tuning C value"
   ]
  },
  {
   "cell_type": "code",
   "execution_count": 235,
   "metadata": {
    "id": "-Srmy8iqTQz0"
   },
   "outputs": [
    {
     "name": "stdout",
     "output_type": "stream",
     "text": [
      "Accuracy with C=0.01: 0.9333\n",
      "Accuracy with C=0.1: 0.9\n",
      "Accuracy with C=1: 0.9333\n",
      "Accuracy with C=10: 0.9333\n",
      "Accuracy with C=100: 0.9667\n",
      "Accuracy with C=200: 0.9667\n",
      "Best C value is 100 with accuracy 0.9667\n"
     ]
    }
   ],
   "source": [
    "# Use this cell here for experimentation 2.a\n",
    "\n",
    "C_values = [0.01, 0.1, 1, 10, 100,200]\n",
    "\n",
    "\n",
    "best_C = None\n",
    "best_accuracy = 0\n",
    "\n",
    "\n",
    "for C in C_values:\n",
    "    model = DualSVM(eta=0.1, C= C)\n",
    "    model.fit(X, y,iterations = 100)\n",
    "    accuracy = model.evaluate(X, y)\n",
    "    \n",
    "    print(f\"Accuracy with C={C}: {round(accuracy,4)}\")\n",
    "    \n",
    "    if accuracy > best_accuracy:\n",
    "        best_accuracy = accuracy\n",
    "        best_C = C\n",
    "\n",
    "print(f\"Best C value is {best_C} with accuracy {round(best_accuracy,4)}\")\n"
   ]
  },
  {
   "cell_type": "markdown",
   "metadata": {
    "id": "iUgJXTtkTQz1"
   },
   "source": [
    "### Compare weights between primal and dual"
   ]
  },
  {
   "cell_type": "code",
   "execution_count": 236,
   "metadata": {
    "id": "Kqci-HzBTQz1"
   },
   "outputs": [
    {
     "name": "stdout",
     "output_type": "stream",
     "text": [
      "[ 1.41067863 -0.33298488]\n",
      "[ 3.76433292 -0.77330477]\n",
      "Norm of the difference between dual and primal weights: 0.029191164892392013\n"
     ]
    }
   ],
   "source": [
    "# Use this cell here for experimentation 2.b\n",
    "from numpy.linalg import norm\n",
    "#train dual SVM\n",
    "dual_svm = DualSVM(eta=0.1, C=best_C)\n",
    "dual_svm.fit(X, y,iterations = 100)\n",
    "dual_weights = dual_svm.primal_weights()\n",
    "dual_unit = dual_weights / norm(dual_weights)\n",
    "print(dual_weights)\n",
    "#train primal SVM with equivalent loss\n",
    "lambda_value = 1/best_C\n",
    "primal_svm = PrimalSVM(eta=0.1, lambda0= lambda_value)\n",
    "primal_svm.fit(X, y,iterations =100)\n",
    "primal_weights = primal_svm.weights\n",
    "primal_unit = primal_weights / norm(primal_weights)\n",
    "print(primal_weights)\n",
    "#compare weights\n",
    "\n",
    "difference = norm(dual_unit - primal_unit)\n",
    "print(f\"Norm of the difference between dual and primal weights: {difference}\")\n",
    "#the weights are very similar"
   ]
  },
  {
   "cell_type": "markdown",
   "metadata": {
    "id": "ldjRwqnxfuyi"
   },
   "source": [
    "### Identify support vectors and points where alpha=C"
   ]
  },
  {
   "cell_type": "code",
   "execution_count": 253,
   "metadata": {
    "id": "RR1V8TgFfvkf"
   },
   "outputs": [
    {
     "name": "stdout",
     "output_type": "stream",
     "text": [
      "Support vector indices: [ 0  2  3  6  7  8  9 10 16 18 20 22 23 24 26 29]\n",
      "Support vector :[0.2872, 12.5464, 0.9301, 7.4423, 18.0267, 0.1818, 2.4418, 8.8806, 2.9626, 9.6451, 15.0228, 0.4918, 1.6671, 12.096, 7.2866, 13.0822]\n",
      "Indices where alpha equals C: [] There's no points alpha = C within 100 iterations when c = 100 \n"
     ]
    }
   ],
   "source": [
    "# Use this cell here for experimentation 2.c\n",
    "vector_list = []\n",
    "support_vector_indices = np.where(dual_svm.alpha > 0)[0]\n",
    "alpha_equals_C_indices = np.where(dual_svm.alpha == 100)[0]\n",
    "\n",
    "vector_list = []\n",
    "\n",
    "for i in support_vector_indices :\n",
    "    vector = dual_svm.alpha[i]\n",
    "    vector_list.append(round(vector,4))\n",
    "\n",
    "print(f\"Support vector indices: {support_vector_indices}\")\n",
    "print(f\"Support vector :{vector_list}\")\n",
    "print(f\"Indices where alpha equals C: {alpha_equals_C_indices} There's no points alpha = C within 100 iterations when c = 100 \")\n"
   ]
  },
  {
   "cell_type": "markdown",
   "metadata": {
    "id": "aMqqnJaATQz1"
   },
   "source": [
    "## Task 3: Kernel"
   ]
  },
  {
   "cell_type": "code",
   "execution_count": 229,
   "metadata": {
    "id": "wNmMdmhfTQz1"
   },
   "outputs": [],
   "source": [
    "from numpy.linalg import norm\n",
    "\n",
    "    \n",
    "class Kernel():\n",
    "    \"\"\"Kernel class\n",
    "\n",
    "    Parameters\n",
    "    ----------\n",
    "    kernel_type : str {linear, poly, rbf}\n",
    "        Type of kernel be indicated.\n",
    "    poly_degree: int\n",
    "        Polynomial degree for polynormial kernel. \n",
    "    poly_offset: float\n",
    "        Polynomial offset for polynomial kernel. \n",
    "    rbf_sigma: float\n",
    "        Kernel coefficient for rbf kernel. \n",
    "    \"\"\"\n",
    "    \n",
    "    def __init__(self, kernel_type = None, **kwargs):\n",
    "        if kernel_type == \"linear\":\n",
    "            self.kernel = self.linear_kernel\n",
    "        if kernel_type == \"poly\":\n",
    "            self.degree = kwargs.get('poly_degree')\n",
    "            self.sigma = kwargs.get('poly_offset')\n",
    "            self.kernel = self.poly_kernel\n",
    "        if kernel_type == \"rbf\":\n",
    "            self.sigma = kwargs.get('rbf_sigma')\n",
    "            self.kernel = self.rbf_kernel\n",
    "            \n",
    "    def __call__(self,u,v):\n",
    "        \"\"\"Evaluate the kernel on a pair of inputs, possibly batched.\n",
    "        Matrix input is comprised of instances as row vectors.\n",
    "\n",
    "        Parameters\n",
    "        ----------\n",
    "        u: vector or matrix\n",
    "            first instance(s), shape (n,) or (m,n)\n",
    "        v: vector or matrix\n",
    "            second instance(s), shape (n,) or (z,n)\n",
    "        \n",
    "        -------\n",
    "        Return : Kernel matrix, float or shape(z,) or shape (m,z)\n",
    "\n",
    "        \"\"\"\n",
    "        return self.kernel(u, v)\n",
    "        \n",
    "    def linear_kernel(self, u, v):\n",
    "        return np.dot(u,v.T)\n",
    "\n",
    "    def poly_kernel(self, u, v):\n",
    "        ### your code here ###\n",
    "        return (np.dot(u, v.T) + self.sigma) ** self.degree\n",
    "        ### end of your code ###\n",
    "\n",
    "    def rbf_kernel(self, u, v):\n",
    "        ### your code here ###\n",
    "        if len(u.shape) == 1:\n",
    "            u = u.reshape(1, -1)\n",
    "        if len(v.shape) == 1:\n",
    "            v = v.reshape(1, -1)\n",
    "\n",
    "        #squared distance between each pair of vectors in u and v\n",
    "        sq_distance = np.sum(u**2, axis=1).reshape(-1, 1) + np.sum(v**2, axis=1) - 2 * np.dot(u, v.T)\n",
    "\n",
    "        rbf = np.exp(-self.sigma * sq_distance)\n",
    "    \n",
    "        return rbf\n",
    "        ### end of your code ###"
   ]
  },
  {
   "cell_type": "markdown",
   "metadata": {
    "id": "A3oDvTw5TQz2"
   },
   "source": [
    "### Test your kernel in the DualSVM"
   ]
  },
  {
   "cell_type": "code",
   "execution_count": 238,
   "metadata": {
    "id": "9z-7gUahTQz2"
   },
   "outputs": [
    {
     "name": "stdout",
     "output_type": "stream",
     "text": [
      "Accuracy is 0.9667\n"
     ]
    },
    {
     "data": {
      "image/png": "[encoded data removed]",
      "text/plain": [
       "<Figure size 648x432 with 1 Axes>"
      ]
     },
     "metadata": {},
     "output_type": "display_data"
    }
   ],
   "source": [
    "# Use this cell here for experimentation 3, e.g., \n",
    "\n",
    "svm = DualSVM(eta = 0.1, C = 100, kernel = Kernel('linear'))\n",
    "svm.fit(X,y, iterations = 100)\n",
    "print(f\"Accuracy is {round(svm.evaluate(X,y),4)}\")\n",
    "svm.visualize(X,y)"
   ]
  },
  {
   "cell_type": "code",
   "execution_count": 239,
   "metadata": {},
   "outputs": [
    {
     "name": "stdout",
     "output_type": "stream",
     "text": [
      "Accuracy is 0.9667\n"
     ]
    },
    {
     "data": {
      "image/png": "[encoded data removed]",
      "text/plain": [
       "<Figure size 648x432 with 1 Axes>"
      ]
     },
     "metadata": {},
     "output_type": "display_data"
    }
   ],
   "source": [
    "svm = DualSVM(eta = 0.1, C = 100, kernel = Kernel('poly',poly_degree=4,poly_offset=3))\n",
    "svm.fit(X,y, iterations = 100)\n",
    "print(f\"Accuracy is {round(svm.evaluate(X,y),4)}\")\n",
    "svm.visualize(X,y)"
   ]
  },
  {
   "cell_type": "code",
   "execution_count": 252,
   "metadata": {},
   "outputs": [
    {
     "name": "stdout",
     "output_type": "stream",
     "text": [
      "Accuracy is 1.0\n"
     ]
    },
    {
     "data": {
      "image/png": "[encoded data removed]",
      "text/plain": [
       "<Figure size 648x432 with 1 Axes>"
      ]
     },
     "metadata": {},
     "output_type": "display_data"
    }
   ],
   "source": [
    "svm = DualSVM(eta = 0.1, C = 100, kernel = Kernel('rbf',rbf_sigma = 2))\n",
    "svm.fit(X,y, iterations = 100)\n",
    "print(f\"Accuracy is {round(svm.evaluate(X,y),4)}\")\n",
    "svm.visualize(X,y)"
   ]
  },
  {
   "cell_type": "markdown",
   "metadata": {},
   "source": [
    "[In a few sentences, explain which kernel you think is best suited to this problem, and why.]"
   ]
  },
  {
   "cell_type": "markdown",
   "metadata": {},
   "source": [
    "From the comparison above, I would say the RBF kernel is the most suitable kernel for this problem as it has the highest accuracy out of all three kernels under the same iterations. As the plot shows we see it has definite the boundary very clear for the blue and red dots. As the iterations increase the boundary becomes more clear. The reason being is because RBF is capable of handeling non-linear relationoships in the data, it can map the data into a higher dimensional space and therefore have more information to decide the boundary. "
   ]
  }
 ],
 "metadata": {
  "colab": {
   "collapsed_sections": [],
   "name": "project2-svm.ipynb",
   "provenance": []
  },
  "kernelspec": {
   "display_name": "Python 3 (ipykernel)",
   "language": "python",
   "name": "python3"
  },
  "language_info": {
   "codemirror_mode": {
    "name": "ipython",
    "version": 3
   },
   "file_extension": ".py",
   "mimetype": "text/x-python",
   "name": "python",
   "nbconvert_exporter": "python",
   "pygments_lexer": "ipython3",
   "version": "3.9.7"
  }
 },
 "nbformat": 4,
 "nbformat_minor": 4
}
